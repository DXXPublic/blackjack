{
 "cells": [
  {
   "cell_type": "code",
   "execution_count": null,
   "metadata": {},
   "outputs": [],
   "source": [
    "#**************************************************************"
   ]
  },
  {
   "cell_type": "code",
   "execution_count": null,
   "metadata": {},
   "outputs": [],
   "source": [
    "#**************** DEFINE OBJECTS AND METHODS ******************"
   ]
  },
  {
   "cell_type": "code",
   "execution_count": null,
   "metadata": {},
   "outputs": [],
   "source": [
    "#**************************************************************"
   ]
  },
  {
   "cell_type": "code",
   "execution_count": 1,
   "metadata": {},
   "outputs": [],
   "source": [
    "import random\n",
    "from IPython.display import clear_output\n",
    "\n",
    "\n",
    "class Deck:\n",
    "    #card_list = [1,2,3,4,5]\n",
    "    card_list = [{\"name\":\"ace\", \"value\":11, \"cat\":\"spades\"},\n",
    "{\"name\":\"ace\", \"value\":11, \"cat\":\"spades\"},{\"name\":\"two\", \"value\":2, \"cat\":\"spades\"},{\"name\":\"three\", \"value\":3, \"cat\":\"spades\"},{\"name\":\"four\", \"value\":4, \"cat\":\"spades\"},{\"name\":\"five\", \"value\":5, \"cat\":\"spades\"},{\"name\":\"six\", \"value\":6, \"cat\":\"spades\"},{\"name\":\"seven\", \"value\":7, \"cat\":\"spades\"},{\"name\":\"eight\", \"value\":8, \"cat\":\"spades\"},{\"name\":\"nine\", \"value\":9, \"cat\":\"spades\"},{\"name\":\"jack\", \"value\":10, \"cat\":\"spades\"},{\"name\":\"queen\", \"value\":10, \"cat\":\"spades\"},{\"name\":\"king\", \"value\":10, \"cat\":\"spades\"},{\"name\":\"ace\", \"value\":11, \"cat\":\"clubs\"},{\"name\":\"two\", \"value\":2, \"cat\":\"clubs\"},{\"name\":\"three\", \"value\":3, \"cat\":\"clubs\"},{\"name\":\"four\", \"value\":4, \"cat\":\"clubs\"},{\"name\":\"five\", \"value\":5, \"cat\":\"clubs\"},{\"name\":\"six\", \"value\":6, \"cat\":\"clubs\"},{\"name\":\"seven\", \"value\":7, \"cat\":\"clubs\"},{\"name\":\"eight\", \"value\":8, \"cat\":\"clubs\"},{\"name\":\"nine\", \"value\":9, \"cat\":\"clubs\"},{\"name\":\"jack\", \"value\":10, \"cat\":\"clubs\"},{\"name\":\"queen\", \"value\":10, \"cat\":\"clubs\"},{\"name\":\"king\", \"value\":10, \"cat\":\"clubs\"},{\"name\":\"ace\", \"value\":11, \"cat\":\"hearts\"},{\"name\":\"two\", \"value\":2, \"cat\":\"hearts\"},{\"name\":\"three\", \"value\":3, \"cat\":\"hearts\"},{\"name\":\"four\", \"value\":4, \"cat\":\"hearts\"},{\"name\":\"five\", \"value\":5, \"cat\":\"hearts\"},{\"name\":\"six\", \"value\":6, \"cat\":\"hearts\"},{\"name\":\"seven\", \"value\":7, \"cat\":\"hearts\"},{\"name\":\"eight\", \"value\":8, \"cat\":\"hearts\"},{\"name\":\"nine\", \"value\":9, \"cat\":\"hearts\"},{\"name\":\"jack\", \"value\":10, \"cat\":\"hearts\"},{\"name\":\"queen\", \"value\":10, \"cat\":\"hearts\"},{\"name\":\"king\", \"value\":10, \"cat\":\"hearts\"},{\"name\":\"ace\", \"value\":11, \"cat\":\"diamonds\"},{\"name\":\"two\", \"value\":2, \"cat\":\"diamonds\"},{\"name\":\"three\", \"value\":3, \"cat\":\"diamonds\"},{\"name\":\"four\", \"value\":4, \"cat\":\"diamonds\"},{\"name\":\"five\", \"value\":5, \"cat\":\"diamonds\"},{\"name\":\"six\", \"value\":6, \"cat\":\"diamonds\"},{\"name\":\"seven\", \"value\":7, \"cat\":\"diamonds\"},{\"name\":\"eight\", \"value\":8, \"cat\":\"diamonds\"},{\"name\":\"nine\", \"value\":9, \"cat\":\"diamonds\"},{\"name\":\"jack\", \"value\":10, \"cat\":\"diamonds\"},{\"name\":\"queen\", \"value\":10, \"cat\":\"diamonds\"},{\"name\":\"king\", \"value\":10, \"cat\":\"diamonds\"}]\n",
    "\n",
    "    def __init__(self):\n",
    "        pass\n",
    "        \n",
    "    def shuffle(self):\n",
    "        shuffled_deck = random.sample(Deck.card_list, len(Deck.card_list))\n",
    "        return shuffled_deck\n",
    "    \n",
    "    def draw_card(self,deck):\n",
    "        \n",
    "        if len(deck) > 0:\n",
    "            self.card = deck[0]\n",
    "            del deck[0]\n",
    "            return self.card\n",
    "        else:\n",
    "            print(\"The deck is empty.  Start a new game\")\n",
    "            return"
   ]
  },
  {
   "cell_type": "code",
   "execution_count": 2,
   "metadata": {},
   "outputs": [],
   "source": [
    "class Bank_Roll:\n",
    "    \n",
    "    def __init__(self, owner, balance=0):\n",
    "        self.owner = owner\n",
    "        self.balance = balance\n",
    "        \n",
    "    def ask_bet(self):\n",
    "        while True:\n",
    "            try:\n",
    "                bet = int(input(\"Please place your bet, in numbers: \"))\n",
    "                return bet\n",
    "            except: \n",
    "                print(\"Bet is not a valid value, please enter numbers only: \")\n",
    "                continue\n",
    "            else:\n",
    "                break;\n",
    "        \n",
    "    def place_bet(self, amount):\n",
    "        while amount > self.balance:\n",
    "            try:\n",
    "                amount = int(input(f\"Not enough money to make that bet. Your currently have ${self.balance}. Please select a new amount: \"))\n",
    "            except:\n",
    "                amount = int(input(\"Value entered is not a number. Please try again: \"))  \n",
    "                continue\n",
    "        self.balance = self.balance - amount\n",
    "        print(f\"Succesfully placed a ${amount} bet\")\n",
    "        \n",
    "    def add_money(self, amount):\n",
    "        self.balance = self.balance + (amount * 2)"
   ]
  },
  {
   "cell_type": "code",
   "execution_count": 3,
   "metadata": {},
   "outputs": [],
   "source": [
    "#*********************************************************"
   ]
  },
  {
   "cell_type": "code",
   "execution_count": 4,
   "metadata": {},
   "outputs": [],
   "source": [
    "#******************* DEFINE FUNCTIONS ********************"
   ]
  },
  {
   "cell_type": "code",
   "execution_count": 5,
   "metadata": {},
   "outputs": [],
   "source": [
    "#********************************************************* "
   ]
  },
  {
   "cell_type": "code",
   "execution_count": 6,
   "metadata": {},
   "outputs": [],
   "source": [
    "def ask_name():\n",
    "    return input(\"Welcome to the BlackJack game.  \\nPlease provide me your name: \")"
   ]
  },
  {
   "cell_type": "code",
   "execution_count": 7,
   "metadata": {},
   "outputs": [],
   "source": [
    "def player_turn(card1, card2, result_player):\n",
    "    bust = False\n",
    "\n",
    "\n",
    "    if card1['name'] == \"ace\" or card2['name'] == \"ace\":\n",
    "        ace_present = True\n",
    "    else:\n",
    "        ace_present = False\n",
    "    \n",
    "    answer = \"\"\n",
    "    while answer != 'h' and answer != 's':\n",
    "        try:\n",
    "            answer = input(f'{player_name}, you have {result_player}. Do you want to hit or stay: ').lower()     \n",
    "        except:\n",
    "            print('Wrong choice, please select h or s')\n",
    "            continue\n",
    "        else:\n",
    "            if answer == 'h':\n",
    "                extra_card = deck.draw_card(shuffled_deck)\n",
    "                print(f'You drew a {extra_card[\"name\"]} of {extra_card[\"cat\"]}')\n",
    "                result_player = result_player + extra_card[\"value\"]\n",
    "                if result_player > 21 and ace_present:\n",
    "                    result_player = result_player - 10\n",
    "                    ace_present = False\n",
    "                    answer = \"\"\n",
    "                    continue\n",
    "                elif result_player > 21 and not ace_present:\n",
    "                        bust = True\n",
    "                        break\n",
    "                else:\n",
    "                    answer = \"\"\n",
    "                    continue\n",
    "                    \n",
    "    return(bust, result_player)"
   ]
  },
  {
   "cell_type": "code",
   "execution_count": 18,
   "metadata": {},
   "outputs": [],
   "source": [
    "def computer_turn(card1, card2, result_bank):\n",
    "    bust = False\n",
    "    print(f\"Bank discovers its hand... Bank has a {bank_card1['name']} of {bank_card1['cat']} and a {bank_card2['name']} of {bank_card2['cat']} for a total of {result_bank}\")\n",
    "\n",
    "    if card1['name'] == \"ace\" or card2['name'] == \"ace\":\n",
    "        ace_present = True\n",
    "    else:\n",
    "        ace_present = False\n",
    "    \n",
    "    while result_bank < 17:\n",
    "        extra_card = deck.draw_card(shuffled_deck)\n",
    "        print(f'Bank drew a {extra_card[\"name\"]} of {extra_card[\"cat\"]}')\n",
    "        result_bank = result_bank + extra_card[\"value\"]\n",
    "        if result_bank > 21 and ace_present:\n",
    "            result_bank = result_bank - 10\n",
    "            ace_present = False\n",
    "            continue\n",
    "        elif result_bank > 21 and not ace_present:\n",
    "            bust = True\n",
    "            break\n",
    "        else: \n",
    "            continue\n",
    "\n",
    "                    \n",
    "    return(bust, result_bank)"
   ]
  },
  {
   "cell_type": "code",
   "execution_count": 9,
   "metadata": {},
   "outputs": [],
   "source": [
    "def play_again():\n",
    "    play_again = \"\"\n",
    "    while play_again != \"y\" and play_again !=\"n\":\n",
    "        try:\n",
    "            play_again = input('Do you want to play again? Y/N').lower()\n",
    "        except: \n",
    "            print(\"Wrong Choice. Select either Y or N\")\n",
    "        else:\n",
    "            if play_again == \"n\":\n",
    "                gameover = True\n",
    "            else:\n",
    "                gameover = False\n",
    "    clear_output()\n",
    "    return gameover"
   ]
  },
  {
   "cell_type": "code",
   "execution_count": 10,
   "metadata": {},
   "outputs": [],
   "source": [
    "#********************************************************* "
   ]
  },
  {
   "cell_type": "code",
   "execution_count": 11,
   "metadata": {},
   "outputs": [],
   "source": [
    "#********************* EXECUTE GAME **********************"
   ]
  },
  {
   "cell_type": "code",
   "execution_count": 12,
   "metadata": {},
   "outputs": [],
   "source": [
    "#********************************************************* "
   ]
  },
  {
   "cell_type": "code",
   "execution_count": 19,
   "metadata": {
    "collapsed": true
   },
   "outputs": [
    {
     "name": "stdout",
     "output_type": "stream",
     "text": [
      "Not enough funds to play again\n"
     ]
    }
   ],
   "source": [
    "deck = Deck()\n",
    "shuffled_deck = deck.shuffle()\n",
    "player_name = ask_name()\n",
    "player = Bank_Roll(player_name,200)\n",
    "gameover = False\n",
    "\n",
    "while not gameover:\n",
    "    if player.balance > 0:\n",
    "        print(f\"Thank you {player_name}. Please place your bet\")\n",
    "        bet = player.ask_bet()\n",
    "        player.place_bet(bet)\n",
    "    else:\n",
    "        print(\"Not enough funds to play again\")\n",
    "        gameover = True\n",
    "        break\n",
    "        \n",
    "    print(\"\\nDealing Cards...\")\n",
    "\n",
    "    player_card1 = deck.draw_card(shuffled_deck)\n",
    "    player_card2 = deck.draw_card(shuffled_deck)\n",
    "    bank_card1 = deck.draw_card(shuffled_deck)\n",
    "    bank_card2 = deck.draw_card(shuffled_deck)\n",
    "\n",
    "    print(f\"{player_name} draws a {player_card1['name']} of {player_card1['cat']} and a {player_card2['name']} of {player_card2['cat']}\")\n",
    "    print(f\"Bank draws a {bank_card1['name']} of {bank_card1['cat']} and a facedown card\")\n",
    "\n",
    "    total_player = player_card1[\"value\"] + player_card2[\"value\"]\n",
    "    total_bank = bank_card1[\"value\"] + bank_card2[\"value\"]\n",
    "\n",
    "    print(f\"\\n**********  {player_name}'s turn  **********\")\n",
    "    \n",
    "    player_result = player_turn(player_card1, player_card2, total_player)\n",
    "    \n",
    "    if player_result[0]:\n",
    "        print(f'Im sorry {player_name}, you lose.')\n",
    "    else:\n",
    "        print(f'{player_name}, you stayed with {player_result[1]}')\n",
    "        print(f\"\\n**********  Banks's turn  **********\")\n",
    "        bank_result = computer_turn(bank_card1, bank_card2, total_bank)\n",
    "    \n",
    "        if bank_result[0]:\n",
    "            print(f'Bank busted with {bank_result[1]}. {player_name} wins')\n",
    "            player.add_money(bet)\n",
    "        else:\n",
    "            if player_result[1] > bank_result[1]:\n",
    "                print(f'Bank stayed at {bank_result[1]}. You win')\n",
    "                player.add_money(bet)\n",
    "            else:\n",
    "                print(f'Bank stayed at {bank_result[1]}. You lose')\n",
    "\n",
    "    print(f'Your current balance is {player.balance}')\n",
    "    gameover = play_again()"
   ]
  },
  {
   "cell_type": "code",
   "execution_count": null,
   "metadata": {},
   "outputs": [],
   "source": []
  },
  {
   "cell_type": "code",
   "execution_count": null,
   "metadata": {},
   "outputs": [],
   "source": []
  }
 ],
 "metadata": {
  "kernelspec": {
   "display_name": "Python 3",
   "language": "python",
   "name": "python3"
  },
  "language_info": {
   "codemirror_mode": {
    "name": "ipython",
    "version": 3
   },
   "file_extension": ".py",
   "mimetype": "text/x-python",
   "name": "python",
   "nbconvert_exporter": "python",
   "pygments_lexer": "ipython3",
   "version": "3.6.4"
  }
 },
 "nbformat": 4,
 "nbformat_minor": 2
}
